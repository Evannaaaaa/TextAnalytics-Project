{
 "cells": [
  {
   "cell_type": "markdown",
   "id": "155f63f5-fc42-44b9-94a7-5a8126203dfd",
   "metadata": {},
   "source": [
    "# Classification\n",
    "\n",
    "3 methods to construct features for Machine Learning -\n",
    "> - Bag of Words (BOW)\n",
    "> - TFIDF\n",
    "\n",
    "The four methods of Classfication methods that will be used in this lab are -\n",
    "> - **Naive Bayes**\n",
    "> - **Decision Tree**\n",
    "> - **Decision Forest**\n",
    "> - **Neural Networks**"
   ]
  },
  {
   "cell_type": "markdown",
   "id": "8b7335b1-5394-402b-aa41-2806528b37d2",
   "metadata": {},
   "source": [
    "## Data Preprocessing"
   ]
  },
  {
   "cell_type": "code",
   "execution_count": 1,
   "id": "f9e27c31-6a1f-4bdd-aaeb-cf0c9de92dd3",
   "metadata": {},
   "outputs": [],
   "source": [
    "#import all the packages that will be used in this lab\n",
    "import matplotlib.pyplot as plt\n",
    "import re\n",
    "import os\n",
    "import pandas as pd\n",
    "import numpy as np\n",
    "\n",
    "#processing libraries\n",
    "import nltk\n",
    "from nltk.tokenize import word_tokenize\n",
    "from nltk import PorterStemmer\n",
    "from nltk import WordNetLemmatizer\n",
    "from nltk.corpus import stopwords\n",
    "\n",
    "#ML libraries\n",
    "from sklearn.feature_extraction.text import CountVectorizer\n",
    "from sklearn.model_selection import train_test_split\n",
    "from sklearn.feature_extraction.text import TfidfVectorizer\n",
    "from sklearn import metrics\n",
    "\n",
    "import gensim"
   ]
  },
  {
   "cell_type": "markdown",
   "id": "48aa82a6-6141-4a14-be87-89795d2eb25b",
   "metadata": {},
   "source": [
    "### Load the data"
   ]
  },
  {
   "cell_type": "code",
   "execution_count": 2,
   "id": "8e30c04f-d232-4ee4-a267-ce8db4ef72f4",
   "metadata": {},
   "outputs": [],
   "source": [
    "#use pandas to read the csv file\n",
    "data = pd.read_csv(\"Mental-Health-Twitter.csv\", usecols=[\"label\", \"post_text\"])"
   ]
  },
  {
   "cell_type": "code",
   "execution_count": 3,
   "id": "a3005e7e-5264-42e3-a1dd-669ace182365",
   "metadata": {},
   "outputs": [
    {
     "data": {
      "text/html": [
       "<div>\n",
       "<style scoped>\n",
       "    .dataframe tbody tr th:only-of-type {\n",
       "        vertical-align: middle;\n",
       "    }\n",
       "\n",
       "    .dataframe tbody tr th {\n",
       "        vertical-align: top;\n",
       "    }\n",
       "\n",
       "    .dataframe thead th {\n",
       "        text-align: right;\n",
       "    }\n",
       "</style>\n",
       "<table border=\"1\" class=\"dataframe\">\n",
       "  <thead>\n",
       "    <tr style=\"text-align: right;\">\n",
       "      <th></th>\n",
       "      <th>post_text</th>\n",
       "      <th>label</th>\n",
       "    </tr>\n",
       "  </thead>\n",
       "  <tbody>\n",
       "    <tr>\n",
       "      <th>0</th>\n",
       "      <td>It's just over 2 years since I was diagnosed w...</td>\n",
       "      <td>1</td>\n",
       "    </tr>\n",
       "    <tr>\n",
       "      <th>1</th>\n",
       "      <td>It's Sunday, I need a break, so I'm planning t...</td>\n",
       "      <td>1</td>\n",
       "    </tr>\n",
       "    <tr>\n",
       "      <th>2</th>\n",
       "      <td>Awake but tired. I need to sleep but my brain ...</td>\n",
       "      <td>1</td>\n",
       "    </tr>\n",
       "    <tr>\n",
       "      <th>3</th>\n",
       "      <td>RT @SewHQ: #Retro bears make perfect gifts and...</td>\n",
       "      <td>1</td>\n",
       "    </tr>\n",
       "    <tr>\n",
       "      <th>4</th>\n",
       "      <td>It’s hard to say whether packing lists are mak...</td>\n",
       "      <td>1</td>\n",
       "    </tr>\n",
       "  </tbody>\n",
       "</table>\n",
       "</div>"
      ],
      "text/plain": [
       "                                           post_text  label\n",
       "0  It's just over 2 years since I was diagnosed w...      1\n",
       "1  It's Sunday, I need a break, so I'm planning t...      1\n",
       "2  Awake but tired. I need to sleep but my brain ...      1\n",
       "3  RT @SewHQ: #Retro bears make perfect gifts and...      1\n",
       "4  It’s hard to say whether packing lists are mak...      1"
      ]
     },
     "execution_count": 3,
     "metadata": {},
     "output_type": "execute_result"
    }
   ],
   "source": [
    "data.head()"
   ]
  },
  {
   "cell_type": "code",
   "execution_count": 4,
   "id": "f63d89b4-67ac-4b5f-9ee7-cc9ace278eb2",
   "metadata": {},
   "outputs": [
    {
     "data": {
      "text/plain": [
       "post_text    0\n",
       "label        0\n",
       "dtype: int64"
      ]
     },
     "metadata": {},
     "output_type": "display_data"
    }
   ],
   "source": [
    "display(data.isna().sum())"
   ]
  },
  {
   "cell_type": "code",
   "execution_count": 6,
   "id": "96d4abdf-f361-4bb7-93b1-b010b5a0e6cd",
   "metadata": {},
   "outputs": [
    {
     "data": {
      "text/plain": [
       "label\n",
       "0        10000\n",
       "1        10000\n",
       "dtype: int64"
      ]
     },
     "execution_count": 6,
     "metadata": {},
     "output_type": "execute_result"
    }
   ],
   "source": [
    "data[['label']].value_counts()"
   ]
  },
  {
   "cell_type": "code",
   "execution_count": 7,
   "id": "572f162d-8ab8-40f2-8903-d2d63cd1092d",
   "metadata": {},
   "outputs": [
    {
     "name": "stdout",
     "output_type": "stream",
     "text": [
      "<class 'pandas.core.frame.DataFrame'>\n",
      "RangeIndex: 20000 entries, 0 to 19999\n",
      "Data columns (total 2 columns):\n",
      " #   Column     Non-Null Count  Dtype \n",
      "---  ------     --------------  ----- \n",
      " 0   post_text  20000 non-null  object\n",
      " 1   label      20000 non-null  int64 \n",
      "dtypes: int64(1), object(1)\n",
      "memory usage: 312.6+ KB\n"
     ]
    }
   ],
   "source": [
    "data.info()"
   ]
  },
  {
   "cell_type": "markdown",
   "id": "be72e4f4-0dd4-4c1f-a19f-f11c4a2d66d3",
   "metadata": {},
   "source": [
    "### Preprocessing of the data"
   ]
  },
  {
   "cell_type": "code",
   "execution_count": 8,
   "id": "807d67b6-cbb8-4609-a7ce-6805163595d3",
   "metadata": {},
   "outputs": [],
   "source": [
    "# remove non alphabets\n",
    "remove_non_alphabets = lambda x: re.sub(r'[^a-zA-Z]',' ',x)"
   ]
  },
  {
   "cell_type": "code",
   "execution_count": 9,
   "id": "12f12c47-9319-413e-82fe-6e4094c8e3b3",
   "metadata": {},
   "outputs": [],
   "source": [
    "# tokenization\n",
    "tokenize = lambda x: word_tokenize(x)"
   ]
  },
  {
   "cell_type": "code",
   "execution_count": 10,
   "id": "1aebee04-5d9e-43d4-89c2-9491e8ca48fc",
   "metadata": {},
   "outputs": [],
   "source": [
    "# stemming\n",
    "ps = PorterStemmer()\n",
    "stem = lambda w: [ ps.stem(x) for x in w ]"
   ]
  },
  {
   "cell_type": "code",
   "execution_count": 11,
   "id": "4763de90-dd8b-4130-ab79-f117ae9b9d93",
   "metadata": {},
   "outputs": [],
   "source": [
    "# lemmatization\n",
    "lemmatizer = WordNetLemmatizer()\n",
    "leammtizer = lambda x: [ lemmatizer.lemmatize(word) for word in x ]"
   ]
  },
  {
   "cell_type": "code",
   "execution_count": 12,
   "id": "15c83b75-6631-41ea-88a4-d31ba9147382",
   "metadata": {},
   "outputs": [
    {
     "name": "stdout",
     "output_type": "stream",
     "text": [
      "Processing : [=====] : Completed"
     ]
    }
   ],
   "source": [
    "# apply all the methods above to the column Message\n",
    "print('Processing : [=', end='')\n",
    "data['post_text'] = data['post_text'].apply(remove_non_alphabets)\n",
    "print('=', end='')\n",
    "data['post_text'] = data['post_text'].apply(tokenize)\n",
    "print('=', end='')\n",
    "data['post_text'] = data['post_text'].apply(stem)\n",
    "print('=', end='')\n",
    "data['post_text'] = data['post_text'].apply(leammtizer)\n",
    "print('=', end='')\n",
    "data['post_text'] = data['post_text'].apply(lambda x: ' '.join(x))\n",
    "print('] : Completed', end='')"
   ]
  },
  {
   "cell_type": "code",
   "execution_count": 13,
   "id": "5d8ca1ed-c4b3-45ce-8674-2796cc5b5345",
   "metadata": {},
   "outputs": [
    {
     "data": {
      "text/html": [
       "<div>\n",
       "<style scoped>\n",
       "    .dataframe tbody tr th:only-of-type {\n",
       "        vertical-align: middle;\n",
       "    }\n",
       "\n",
       "    .dataframe tbody tr th {\n",
       "        vertical-align: top;\n",
       "    }\n",
       "\n",
       "    .dataframe thead th {\n",
       "        text-align: right;\n",
       "    }\n",
       "</style>\n",
       "<table border=\"1\" class=\"dataframe\">\n",
       "  <thead>\n",
       "    <tr style=\"text-align: right;\">\n",
       "      <th></th>\n",
       "      <th>post_text</th>\n",
       "      <th>label</th>\n",
       "    </tr>\n",
       "  </thead>\n",
       "  <tbody>\n",
       "    <tr>\n",
       "      <th>0</th>\n",
       "      <td>it s just over year sinc i wa diagnos with anx...</td>\n",
       "      <td>1</td>\n",
       "    </tr>\n",
       "    <tr>\n",
       "      <th>1</th>\n",
       "      <td>it s sunday i need a break so i m plan to spen...</td>\n",
       "      <td>1</td>\n",
       "    </tr>\n",
       "    <tr>\n",
       "      <th>2</th>\n",
       "      <td>awak but tire i need to sleep but my brain ha ...</td>\n",
       "      <td>1</td>\n",
       "    </tr>\n",
       "    <tr>\n",
       "      <th>3</th>\n",
       "      <td>rt sewhq retro bear make perfect gift and are ...</td>\n",
       "      <td>1</td>\n",
       "    </tr>\n",
       "    <tr>\n",
       "      <th>4</th>\n",
       "      <td>it s hard to say whether pack list are make li...</td>\n",
       "      <td>1</td>\n",
       "    </tr>\n",
       "  </tbody>\n",
       "</table>\n",
       "</div>"
      ],
      "text/plain": [
       "                                           post_text  label\n",
       "0  it s just over year sinc i wa diagnos with anx...      1\n",
       "1  it s sunday i need a break so i m plan to spen...      1\n",
       "2  awak but tire i need to sleep but my brain ha ...      1\n",
       "3  rt sewhq retro bear make perfect gift and are ...      1\n",
       "4  it s hard to say whether pack list are make li...      1"
      ]
     },
     "execution_count": 13,
     "metadata": {},
     "output_type": "execute_result"
    }
   ],
   "source": [
    "data.head()"
   ]
  },
  {
   "cell_type": "markdown",
   "id": "cc39a789-e1c4-4076-a159-93669fc14506",
   "metadata": {},
   "source": [
    "### Splitting the data set"
   ]
  },
  {
   "cell_type": "code",
   "execution_count": 14,
   "id": "02ebcc33-f972-4da4-8fde-6947bb41725e",
   "metadata": {},
   "outputs": [],
   "source": [
    "# split to 30 percent test data and 70 percent train data\n",
    "\n",
    "train_corpus, test_corpus, train_labels, test_labels = train_test_split(data[\"post_text\"],\n",
    "                                                                        data[\"label\"],\n",
    "                                                                        test_size=0.3)"
   ]
  },
  {
   "cell_type": "markdown",
   "id": "849b6080-11f2-4c10-8f70-a42bbd7c2947",
   "metadata": {},
   "source": [
    "## Feature Engineering"
   ]
  },
  {
   "cell_type": "markdown",
   "id": "98ef533f-7be6-452a-8dc4-2443906e9c4b",
   "metadata": {},
   "source": [
    "### Bag of Words (BOW)"
   ]
  },
  {
   "cell_type": "code",
   "execution_count": 15,
   "id": "79bd6612-f591-441e-994c-70642ca7719a",
   "metadata": {},
   "outputs": [],
   "source": [
    "# build bag of words features' vectorizer and get features\n",
    "bow_vectorizer = CountVectorizer(min_df=1, ngram_range=(1,1))\n",
    "bow_train_features = bow_vectorizer.fit_transform(train_corpus)\n",
    "bow_test_features = bow_vectorizer.transform(test_corpus)"
   ]
  },
  {
   "cell_type": "code",
   "execution_count": 16,
   "id": "05707c61-9e2c-49a7-8c10-dc763715da67",
   "metadata": {},
   "outputs": [
    {
     "name": "stdout",
     "output_type": "stream",
     "text": [
      "  (0, 21167)\t1\n",
      "  (0, 14881)\t1\n",
      "  (0, 6403)\t1\n",
      "  (0, 22148)\t1\n",
      "  (0, 16609)\t1\n",
      "  (0, 664)\t1\n",
      "  (0, 18244)\t1\n",
      "  (0, 1541)\t1\n",
      "  (0, 2691)\t1\n"
     ]
    }
   ],
   "source": [
    "print(bow_train_features[0]) "
   ]
  },
  {
   "cell_type": "markdown",
   "id": "258a86b0-2a11-42f6-ab42-84376161ab78",
   "metadata": {},
   "source": [
    "### TFIDF"
   ]
  },
  {
   "cell_type": "code",
   "execution_count": 17,
   "id": "4734f665-bdc8-4408-a52d-e3ed6c4e1096",
   "metadata": {},
   "outputs": [],
   "source": [
    "# build tfidf features' vectorizer and get features\n",
    "tfidf_vectorizer=TfidfVectorizer(min_df=1, \n",
    "                                 norm='l2',\n",
    "                                 smooth_idf=True,\n",
    "                                 use_idf=True,\n",
    "                                 ngram_range=(1,1))\n",
    "tfidf_train_features = tfidf_vectorizer.fit_transform(train_corpus)  \n",
    "tfidf_test_features = tfidf_vectorizer.transform(test_corpus)"
   ]
  },
  {
   "cell_type": "code",
   "execution_count": 18,
   "id": "02b85a0a-4fed-4bf9-b69c-f81d4b176b06",
   "metadata": {},
   "outputs": [
    {
     "name": "stdout",
     "output_type": "stream",
     "text": [
      "  (0, 2691)\t0.3565280432315922\n",
      "  (0, 1541)\t0.2188968126795628\n",
      "  (0, 18244)\t0.4437949106730895\n",
      "  (0, 664)\t0.17562444220499382\n",
      "  (0, 16609)\t0.4661846958087107\n",
      "  (0, 22148)\t0.23982814859233698\n",
      "  (0, 6403)\t0.19205308325699855\n",
      "  (0, 14881)\t0.4512598404171227\n",
      "  (0, 21167)\t0.28602190567111235\n"
     ]
    }
   ],
   "source": [
    "print(tfidf_train_features[0])"
   ]
  },
  {
   "cell_type": "markdown",
   "id": "8c4a5bac-5b21-4412-8786-4f3304526d92",
   "metadata": {},
   "source": [
    "## Modeling and Evaluation "
   ]
  },
  {
   "cell_type": "markdown",
   "id": "2dbec2e0-74f5-488f-86db-1df79e55fabf",
   "metadata": {},
   "source": [
    "<font size='5'> Confusion Matrix </font>"
   ]
  },
  {
   "cell_type": "code",
   "execution_count": 29,
   "id": "d34d259a-7fbe-45a5-b3c0-525d918290c3",
   "metadata": {},
   "outputs": [],
   "source": [
    "# define a function to evaluate our classification models based on four metrics\n",
    "# This defined function is also useful in other cases. This is comparing test_y and pred_y. \n",
    "# Both contain 1s and 0s.\n",
    "def get_metrics(true_labels, predicted_labels):\n",
    "    \n",
    "    print ('Accuracy:', np.round(                                                    \n",
    "                        metrics.accuracy_score(true_labels, \n",
    "                                               predicted_labels),\n",
    "                        2))\n",
    "    print ('Precision:', np.round(\n",
    "                        metrics.precision_score(true_labels, \n",
    "                                               predicted_labels),\n",
    "                        2))\n",
    "    print ('Recall:', np.round(\n",
    "                        metrics.recall_score(true_labels, \n",
    "                                               predicted_labels),\n",
    "                        2))\n",
    "    print ('F1 Score:', np.round(\n",
    "                        metrics.f1_score(true_labels, \n",
    "                                               predicted_labels),\n",
    "                        2))"
   ]
  },
  {
   "cell_type": "markdown",
   "id": "f29b6744",
   "metadata": {},
   "source": [
    "### Assume the cost for each mis-classified person from depression to healthy is 50, and from healthy to depression is 10. "
   ]
  },
  {
   "cell_type": "code",
   "execution_count": 32,
   "id": "21d86033-1c77-4ee8-9a45-e290a369c22d",
   "metadata": {},
   "outputs": [],
   "source": [
    "# define a function that trains the model, performs predictions and evaluates the predictions\n",
    "def train_predict_evaluate_model(classifier, \n",
    "                                 train_features, train_labels, \n",
    "                                 test_features, test_labels):\n",
    "    # build model   \n",
    "    classifier.fit(train_features, train_labels)\n",
    "    # predict using model \n",
    "    predictions = classifier.predict(test_features) \n",
    "    # evaluate model prediction performance\n",
    "    '''get_metrics(true_labels=test_labels, \n",
    "                predicted_labels=predictions)'''\n",
    "    print(metrics.classification_report(test_labels,predictions))\n",
    "    print(\"Confusion matrix: \")\n",
    "    cm = metrics.confusion_matrix(test_labels, predictions)\n",
    "    df=pd.DataFrame(cm, index=(0,1), columns=(0,1))  \n",
    "    print(df)\n",
    "    print()\n",
    "    print('Total Cost:')\n",
    "    print(df.iloc[0,1]*10+df.iloc[1,0]*50)\n",
    "    return predictions, metrics.accuracy_score(test_labels,predictions)  "
   ]
  },
  {
   "cell_type": "markdown",
   "id": "4e2ddde4-dad1-40df-b39c-fbe0aeb0a359",
   "metadata": {},
   "source": [
    "## Machine Learning"
   ]
  },
  {
   "cell_type": "markdown",
   "id": "a3579c51-d654-4b09-b2a8-b7b9d6d8f2f3",
   "metadata": {},
   "source": [
    "### Import Classfier from Libraries"
   ]
  },
  {
   "cell_type": "code",
   "execution_count": 33,
   "id": "7b1ce34e-99c1-4fb8-afbf-ff6b583f01d3",
   "metadata": {},
   "outputs": [],
   "source": [
    "from sklearn.naive_bayes import MultinomialNB # import naive bayes\n",
    "from sklearn.tree import DecisionTreeClassifier # import Decision Tree\n",
    "from sklearn.ensemble import RandomForestClassifier # import random forest"
   ]
  },
  {
   "cell_type": "markdown",
   "id": "2df85fe3-1a02-4a85-a45c-8b114de8d928",
   "metadata": {},
   "source": [
    "### Machine Learning on BOW Approach"
   ]
  },
  {
   "cell_type": "markdown",
   "id": "df54acb3-ae6f-4a3c-8b44-43436b7b5cbd",
   "metadata": {},
   "source": [
    "#### NB on BOW"
   ]
  },
  {
   "cell_type": "code",
   "execution_count": 34,
   "id": "a8495caa-2c1b-4902-8095-885db39b864c",
   "metadata": {},
   "outputs": [
    {
     "name": "stdout",
     "output_type": "stream",
     "text": [
      "              precision    recall  f1-score   support\n",
      "\n",
      "           0       0.88      0.84      0.86      2993\n",
      "           1       0.85      0.89      0.87      3007\n",
      "\n",
      "    accuracy                           0.86      6000\n",
      "   macro avg       0.86      0.86      0.86      6000\n",
      "weighted avg       0.86      0.86      0.86      6000\n",
      "\n",
      "Confusion matrix: \n",
      "      0     1\n",
      "0  2510   483\n",
      "1   342  2665\n",
      "\n",
      "Total Cost:\n",
      "21930\n"
     ]
    }
   ],
   "source": [
    "# assign naive bayes function to a variable\n",
    "mnb = MultinomialNB()\n",
    "\n",
    "# predict and evaluate naive bayes\n",
    "mnb_bow_predictions, mnb_bow_accuracy = train_predict_evaluate_model(classifier=mnb,\n",
    "                                           train_features=bow_train_features,\n",
    "                                           train_labels=train_labels,\n",
    "                                           test_features=bow_test_features,\n",
    "                                           test_labels=test_labels)"
   ]
  },
  {
   "cell_type": "markdown",
   "id": "3110442b-9cad-48e0-a2ae-5f9e09673cad",
   "metadata": {},
   "source": [
    "#### DT on BOW"
   ]
  },
  {
   "cell_type": "code",
   "execution_count": 35,
   "id": "923a2ca4-d567-4ba1-b4a6-6721327e7e6e",
   "metadata": {},
   "outputs": [
    {
     "name": "stdout",
     "output_type": "stream",
     "text": [
      "              precision    recall  f1-score   support\n",
      "\n",
      "           0       0.75      0.73      0.74      2993\n",
      "           1       0.74      0.76      0.75      3007\n",
      "\n",
      "    accuracy                           0.75      6000\n",
      "   macro avg       0.75      0.75      0.75      6000\n",
      "weighted avg       0.75      0.75      0.75      6000\n",
      "\n",
      "Confusion matrix: \n",
      "      0     1\n",
      "0  2198   795\n",
      "1   721  2286\n",
      "\n",
      "Total Cost:\n",
      "44000\n"
     ]
    }
   ],
   "source": [
    "# assign decision tree function to an object\n",
    "dt = DecisionTreeClassifier()\n",
    "\n",
    "# predict and evaluate decision tree\n",
    "dt_bow_predictions, dt_bow_accuracy = train_predict_evaluate_model(classifier=dt,\n",
    "                                                               train_features=bow_train_features,\n",
    "                                                               train_labels=train_labels,\n",
    "                                                               test_features=bow_test_features,\n",
    "                                                               test_labels=test_labels)"
   ]
  },
  {
   "cell_type": "markdown",
   "id": "f0503f94-d6cc-4a7d-8d2a-492d1cb449a4",
   "metadata": {},
   "source": [
    "#### RF on BOW"
   ]
  },
  {
   "cell_type": "code",
   "execution_count": 36,
   "id": "9dbdbb93-dc0d-466e-9c4c-05f46be6350f",
   "metadata": {},
   "outputs": [
    {
     "name": "stdout",
     "output_type": "stream",
     "text": [
      "              precision    recall  f1-score   support\n",
      "\n",
      "           0       0.85      0.79      0.82      2993\n",
      "           1       0.80      0.86      0.83      3007\n",
      "\n",
      "    accuracy                           0.83      6000\n",
      "   macro avg       0.83      0.83      0.83      6000\n",
      "weighted avg       0.83      0.83      0.83      6000\n",
      "\n",
      "Confusion matrix: \n",
      "      0     1\n",
      "0  2355   638\n",
      "1   406  2601\n",
      "\n",
      "Total Cost:\n",
      "26680\n"
     ]
    }
   ],
   "source": [
    "# assign random forest function to an object\n",
    "rf = RandomForestClassifier(criterion=\"entropy\")\n",
    "\n",
    "# predict and evaluate random forest\n",
    "rf_bow_predictions, rf_bow_accuracy = train_predict_evaluate_model(classifier=rf,\n",
    "                                           train_features=bow_train_features,\n",
    "                                           train_labels=train_labels,\n",
    "                                           test_features=bow_test_features,\n",
    "                                           test_labels=test_labels)"
   ]
  },
  {
   "cell_type": "markdown",
   "id": "ec0fdf96-2dbf-4436-922b-1bd54933b720",
   "metadata": {},
   "source": [
    "### Machine Learning on TFIDF Approach"
   ]
  },
  {
   "cell_type": "markdown",
   "id": "af4042ce-6622-40e6-9832-6e9484bc7ac4",
   "metadata": {},
   "source": [
    "#### NB on TFIDF"
   ]
  },
  {
   "cell_type": "code",
   "execution_count": 37,
   "id": "a9cb4b2f-6f8f-4887-ae2f-3b4289890ab0",
   "metadata": {},
   "outputs": [
    {
     "name": "stdout",
     "output_type": "stream",
     "text": [
      "              precision    recall  f1-score   support\n",
      "\n",
      "           0       0.90      0.81      0.85      2993\n",
      "           1       0.83      0.91      0.86      3007\n",
      "\n",
      "    accuracy                           0.86      6000\n",
      "   macro avg       0.86      0.86      0.86      6000\n",
      "weighted avg       0.86      0.86      0.86      6000\n",
      "\n",
      "Confusion matrix: \n",
      "      0     1\n",
      "0  2419   574\n",
      "1   282  2725\n",
      "\n",
      "Total Cost:\n",
      "19840\n"
     ]
    }
   ],
   "source": [
    "# predict and evaluate naive bayes\n",
    "mnb_tfidf_predictions, mnb_tfidf_accuracy = train_predict_evaluate_model(classifier=mnb,\n",
    "                                           train_features=tfidf_train_features,\n",
    "                                           train_labels=train_labels,\n",
    "                                           test_features=tfidf_test_features,\n",
    "                                           test_labels=test_labels)"
   ]
  },
  {
   "cell_type": "markdown",
   "id": "28432dc5-bf0e-4675-8959-ee26a38d8faf",
   "metadata": {},
   "source": [
    "#### DT on TFIDF"
   ]
  },
  {
   "cell_type": "code",
   "execution_count": 38,
   "id": "04e1afaf-fb28-4773-b436-366255a45ccd",
   "metadata": {},
   "outputs": [
    {
     "name": "stdout",
     "output_type": "stream",
     "text": [
      "              precision    recall  f1-score   support\n",
      "\n",
      "           0       0.75      0.71      0.73      2993\n",
      "           1       0.73      0.76      0.74      3007\n",
      "\n",
      "    accuracy                           0.74      6000\n",
      "   macro avg       0.74      0.74      0.73      6000\n",
      "weighted avg       0.74      0.74      0.74      6000\n",
      "\n",
      "Confusion matrix: \n",
      "      0     1\n",
      "0  2127   866\n",
      "1   723  2284\n",
      "\n",
      "Total Cost:\n",
      "44810\n"
     ]
    }
   ],
   "source": [
    "# predict and evaluate decision tree\n",
    "dt_tfidf_predictions, dt_tfidf_accuracy = train_predict_evaluate_model(classifier=dt,\n",
    "                                           train_features=tfidf_train_features,\n",
    "                                           train_labels=train_labels,\n",
    "                                           test_features=tfidf_test_features,\n",
    "                                           test_labels=test_labels)"
   ]
  },
  {
   "cell_type": "markdown",
   "id": "7fc08c00-7063-46dc-8171-5549d3358b88",
   "metadata": {},
   "source": [
    "#### RF on TFIDF"
   ]
  },
  {
   "cell_type": "code",
   "execution_count": 39,
   "id": "1468c963-3fbd-418f-b61d-7a3c9df8cf92",
   "metadata": {},
   "outputs": [
    {
     "name": "stdout",
     "output_type": "stream",
     "text": [
      "              precision    recall  f1-score   support\n",
      "\n",
      "           0       0.84      0.75      0.79      2993\n",
      "           1       0.78      0.86      0.82      3007\n",
      "\n",
      "    accuracy                           0.81      6000\n",
      "   macro avg       0.81      0.81      0.80      6000\n",
      "weighted avg       0.81      0.81      0.80      6000\n",
      "\n",
      "Confusion matrix: \n",
      "      0     1\n",
      "0  2259   734\n",
      "1   433  2574\n",
      "\n",
      "Total Cost:\n",
      "28990\n"
     ]
    }
   ],
   "source": [
    "# predict and evaluate random forest\n",
    "rf_tfidf_predictions, rf_tfidf_accuracy = train_predict_evaluate_model(classifier=rf,\n",
    "                                           train_features=tfidf_train_features,\n",
    "                                           train_labels=train_labels,\n",
    "                                           test_features=tfidf_test_features,\n",
    "                                           test_labels=test_labels)"
   ]
  },
  {
   "cell_type": "markdown",
   "id": "b3dad725-54f2-466b-8683-87602f909d3b",
   "metadata": {},
   "source": [
    "### Accuracy Comparison of Different models on different features"
   ]
  },
  {
   "cell_type": "code",
   "execution_count": 42,
   "id": "4a540e1e",
   "metadata": {},
   "outputs": [],
   "source": [
    "mnb = MultinomialNB()"
   ]
  },
  {
   "cell_type": "code",
   "execution_count": 45,
   "id": "14875573-cd9f-4ab5-8890-7cf2d183e014",
   "metadata": {},
   "outputs": [
    {
     "data": {
      "text/html": [
       "<div>\n",
       "<style scoped>\n",
       "    .dataframe tbody tr th:only-of-type {\n",
       "        vertical-align: middle;\n",
       "    }\n",
       "\n",
       "    .dataframe tbody tr th {\n",
       "        vertical-align: top;\n",
       "    }\n",
       "\n",
       "    .dataframe thead th {\n",
       "        text-align: right;\n",
       "    }\n",
       "</style>\n",
       "<table border=\"1\" class=\"dataframe\">\n",
       "  <thead>\n",
       "    <tr style=\"text-align: right;\">\n",
       "      <th></th>\n",
       "      <th>Naive Bayes</th>\n",
       "      <th>Decision Tree</th>\n",
       "      <th>Random Forest</th>\n",
       "    </tr>\n",
       "  </thead>\n",
       "  <tbody>\n",
       "    <tr>\n",
       "      <th>Bag-of-words</th>\n",
       "      <td>0.862500</td>\n",
       "      <td>0.747333</td>\n",
       "      <td>0.8260</td>\n",
       "    </tr>\n",
       "    <tr>\n",
       "      <th>TFIDF</th>\n",
       "      <td>0.857333</td>\n",
       "      <td>0.735167</td>\n",
       "      <td>0.8055</td>\n",
       "    </tr>\n",
       "  </tbody>\n",
       "</table>\n",
       "</div>"
      ],
      "text/plain": [
       "              Naive Bayes  Decision Tree  Random Forest\n",
       "Bag-of-words     0.862500       0.747333         0.8260\n",
       "TFIDF            0.857333       0.735167         0.8055"
      ]
     },
     "execution_count": 45,
     "metadata": {},
     "output_type": "execute_result"
    }
   ],
   "source": [
    "# create a dictionary that stores all the accuracy information\n",
    "accuracy_dict = {}\n",
    "for m in [\"mnb\",\"dt\",\"rf\"]:\n",
    "    accuracy_dict[m] = {}\n",
    "    for f in [\"bow\",\"tfidf\"]:\n",
    "        exec('accuracy_dict[\"{}\"][\"{}\"] = {}_{}_accuracy'.format(m, f, m, f))\n",
    "        \n",
    "#Accuracy Matrix\n",
    "pd.DataFrame(accuracy_dict).rename(columns={\"mnb\":\"Naive Bayes\", \n",
    "                                            \"dt\":\"Decision Tree\", \n",
    "                                            \"rf\":\"Random Forest\"}, \n",
    "                                   index={\"bow\":\"Bag-of-words\", \n",
    "                                          \"tfidf\":\"TFIDF\"})"
   ]
  },
  {
   "cell_type": "markdown",
   "id": "7b7485c6",
   "metadata": {},
   "source": [
    "## Bag-of-words & Naive Bayes has the highest accuracy (86.25%)\n",
    "## TFIDF & Naive Bayes has the lowest cost (574 * 10 + 282 * 50 = 19840)"
   ]
  },
  {
   "cell_type": "code",
   "execution_count": null,
   "id": "8897e522",
   "metadata": {},
   "outputs": [],
   "source": []
  }
 ],
 "metadata": {
  "kernelspec": {
   "display_name": "Python 3 (ipykernel)",
   "language": "python",
   "name": "python3"
  },
  "language_info": {
   "codemirror_mode": {
    "name": "ipython",
    "version": 3
   },
   "file_extension": ".py",
   "mimetype": "text/x-python",
   "name": "python",
   "nbconvert_exporter": "python",
   "pygments_lexer": "ipython3",
   "version": "3.9.12"
  }
 },
 "nbformat": 4,
 "nbformat_minor": 5
}
